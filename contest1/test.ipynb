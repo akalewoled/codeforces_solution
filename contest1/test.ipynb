{
 "cells": [
  {
   "cell_type": "code",
   "execution_count": 3,
   "metadata": {},
   "outputs": [
    {
     "name": "stdout",
     "output_type": "stream",
     "text": [
      "[]\n"
     ]
    }
   ],
   "source": [
    "a=\"dawarf\"\n",
    "{a:2,d:1,w:1,r:1,f:1}\n",
    "aabcc\n",
    "a:2,b:1,c:2\n",
    "a:0,b:1,c:0\n",
    "\n",
    "count={}#{a:3,b:4.c:5}\n",
    "\n",
    "for i in a:\n",
    "    count[i]=count.get(i,0)+1\n",
    "\n",
    "\n"
   ]
  },
  {
   "cell_type": "code",
   "execution_count": 1,
   "metadata": {},
   "outputs": [],
   "source": [
    "\"\"\" \n",
    "to be optimum the the clever student should team up with the low level student \n",
    "\"\"\"\n",
    "no_of_students=int(input())\n",
    "skills=list(map(int,input().split()))\n",
    "skills.sort()   # sorting based on theier educational level\n",
    "no_of_question=0\n",
    "for i in range (0,t,2):\n",
    "    no_of_question+=skills[i+1]-skills[i]\n",
    "print (no_of_question)"
   ]
  },
  {
   "cell_type": "code",
   "execution_count": 2,
   "metadata": {},
   "outputs": [
    {
     "name": "stdout",
     "output_type": "stream",
     "text": [
      "123\n"
     ]
    }
   ],
   "source": [
    "a=[1,2,3]\n",
    "print(\"\".join(map(str,a)))"
   ]
  }
 ],
 "metadata": {
  "kernelspec": {
   "display_name": "Python 3",
   "language": "python",
   "name": "python3"
  },
  "language_info": {
   "codemirror_mode": {
    "name": "ipython",
    "version": 3
   },
   "file_extension": ".py",
   "mimetype": "text/x-python",
   "name": "python",
   "nbconvert_exporter": "python",
   "pygments_lexer": "ipython3",
   "version": "3.11.3"
  }
 },
 "nbformat": 4,
 "nbformat_minor": 2
}
